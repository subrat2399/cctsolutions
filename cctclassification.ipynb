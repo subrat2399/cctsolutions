{
 "cells": [
  {
   "cell_type": "code",
   "execution_count": 29,
   "metadata": {},
   "outputs": [],
   "source": [
    "import numpy as np\n",
    "import pandas as pd\n",
    "import matplotlib.pyplot as plt\n",
    "from sklearn.metrics import confusion_matrix\n",
    "from sklearn.metrics import plot_confusion_matrix\n",
    "from sklearn.tree import DecisionTreeClassifier\n",
    "from sklearn.tree import plot_tree\n",
    "from sklearn.model_selection import train_test_split\n",
    "from sklearn.model_selection import cross_val_score"
   ]
  },
  {
   "cell_type": "code",
   "execution_count": 30,
   "metadata": {},
   "outputs": [
    {
     "data": {
      "text/html": [
       "<div>\n",
       "<style scoped>\n",
       "    .dataframe tbody tr th:only-of-type {\n",
       "        vertical-align: middle;\n",
       "    }\n",
       "\n",
       "    .dataframe tbody tr th {\n",
       "        vertical-align: top;\n",
       "    }\n",
       "\n",
       "    .dataframe thead th {\n",
       "        text-align: right;\n",
       "    }\n",
       "</style>\n",
       "<table border=\"1\" class=\"dataframe\">\n",
       "  <thead>\n",
       "    <tr style=\"text-align: right;\">\n",
       "      <th></th>\n",
       "      <th>1</th>\n",
       "      <th>2</th>\n",
       "      <th>3</th>\n",
       "      <th>Target</th>\n",
       "    </tr>\n",
       "  </thead>\n",
       "  <tbody>\n",
       "    <tr>\n",
       "      <th>0</th>\n",
       "      <td>0.60</td>\n",
       "      <td>0.31</td>\n",
       "      <td>13.0</td>\n",
       "      <td>False</td>\n",
       "    </tr>\n",
       "    <tr>\n",
       "      <th>1</th>\n",
       "      <td>0.74</td>\n",
       "      <td>0.33</td>\n",
       "      <td>21.0</td>\n",
       "      <td>False</td>\n",
       "    </tr>\n",
       "    <tr>\n",
       "      <th>2</th>\n",
       "      <td>0.54</td>\n",
       "      <td>0.19</td>\n",
       "      <td>NaN</td>\n",
       "      <td>True</td>\n",
       "    </tr>\n",
       "    <tr>\n",
       "      <th>3</th>\n",
       "      <td>0.46</td>\n",
       "      <td>NaN</td>\n",
       "      <td>9.0</td>\n",
       "      <td>False</td>\n",
       "    </tr>\n",
       "    <tr>\n",
       "      <th>4</th>\n",
       "      <td>0.77</td>\n",
       "      <td>0.15</td>\n",
       "      <td>15.0</td>\n",
       "      <td>True</td>\n",
       "    </tr>\n",
       "  </tbody>\n",
       "</table>\n",
       "</div>"
      ],
      "text/plain": [
       "      1     2     3 Target\n",
       "0  0.60  0.31  13.0  False\n",
       "1  0.74  0.33  21.0  False\n",
       "2  0.54  0.19   NaN   True\n",
       "3  0.46   NaN   9.0  False\n",
       "4  0.77  0.15  15.0   True"
      ]
     },
     "execution_count": 30,
     "metadata": {},
     "output_type": "execute_result"
    }
   ],
   "source": [
    "ur= 'https://raw.githubusercontent.com/cctech-labs/challenges/master/2020/06/hiring/resources/data_science/challenge2_dataset.csv'\n",
    "df = pd.read_csv(ur,error_bad_lines=False)\n",
    "df.head()"
   ]
  },
  {
   "cell_type": "code",
   "execution_count": 31,
   "metadata": {},
   "outputs": [
    {
     "data": {
      "text/plain": [
       "False    1563\n",
       "True      421\n",
       "Name: Target, dtype: int64"
      ]
     },
     "execution_count": 31,
     "metadata": {},
     "output_type": "execute_result"
    }
   ],
   "source": [
    "df['Target'].value_counts()"
   ]
  },
  {
   "cell_type": "code",
   "execution_count": 32,
   "metadata": {},
   "outputs": [
    {
     "data": {
      "text/plain": [
       "(1995, 4)"
      ]
     },
     "execution_count": 32,
     "metadata": {},
     "output_type": "execute_result"
    }
   ],
   "source": [
    "df.shape"
   ]
  },
  {
   "cell_type": "code",
   "execution_count": 33,
   "metadata": {},
   "outputs": [
    {
     "data": {
      "text/plain": [
       "1          3\n",
       "2          3\n",
       "3          2\n",
       "Target    11\n",
       "dtype: int64"
      ]
     },
     "execution_count": 33,
     "metadata": {},
     "output_type": "execute_result"
    }
   ],
   "source": [
    "df.isnull().sum()"
   ]
  },
  {
   "cell_type": "code",
   "execution_count": 35,
   "metadata": {},
   "outputs": [
    {
     "data": {
      "text/plain": [
       "18"
      ]
     },
     "execution_count": 35,
     "metadata": {},
     "output_type": "execute_result"
    }
   ],
   "source": [
    "len(df.loc[(df['1'].isnull())|(df['2'].isnull())|(df['3'].isnull())|(df['Target'].isnull())])"
   ]
  },
  {
   "cell_type": "code",
   "execution_count": 36,
   "metadata": {},
   "outputs": [
    {
     "data": {
      "text/html": [
       "<div>\n",
       "<style scoped>\n",
       "    .dataframe tbody tr th:only-of-type {\n",
       "        vertical-align: middle;\n",
       "    }\n",
       "\n",
       "    .dataframe tbody tr th {\n",
       "        vertical-align: top;\n",
       "    }\n",
       "\n",
       "    .dataframe thead th {\n",
       "        text-align: right;\n",
       "    }\n",
       "</style>\n",
       "<table border=\"1\" class=\"dataframe\">\n",
       "  <thead>\n",
       "    <tr style=\"text-align: right;\">\n",
       "      <th></th>\n",
       "      <th>1</th>\n",
       "      <th>2</th>\n",
       "      <th>3</th>\n",
       "      <th>Target</th>\n",
       "    </tr>\n",
       "  </thead>\n",
       "  <tbody>\n",
       "    <tr>\n",
       "      <th>2</th>\n",
       "      <td>0.54</td>\n",
       "      <td>0.19</td>\n",
       "      <td>NaN</td>\n",
       "      <td>True</td>\n",
       "    </tr>\n",
       "    <tr>\n",
       "      <th>3</th>\n",
       "      <td>0.46</td>\n",
       "      <td>NaN</td>\n",
       "      <td>9.0</td>\n",
       "      <td>False</td>\n",
       "    </tr>\n",
       "    <tr>\n",
       "      <th>10</th>\n",
       "      <td>0.80</td>\n",
       "      <td>0.12</td>\n",
       "      <td>18.0</td>\n",
       "      <td>NaN</td>\n",
       "    </tr>\n",
       "    <tr>\n",
       "      <th>32</th>\n",
       "      <td>0.46</td>\n",
       "      <td>0.14</td>\n",
       "      <td>9.0</td>\n",
       "      <td>NaN</td>\n",
       "    </tr>\n",
       "    <tr>\n",
       "      <th>44</th>\n",
       "      <td>0.63</td>\n",
       "      <td>0.31</td>\n",
       "      <td>22.0</td>\n",
       "      <td>NaN</td>\n",
       "    </tr>\n",
       "    <tr>\n",
       "      <th>62</th>\n",
       "      <td>0.74</td>\n",
       "      <td>0.22</td>\n",
       "      <td>20.0</td>\n",
       "      <td>NaN</td>\n",
       "    </tr>\n",
       "    <tr>\n",
       "      <th>76</th>\n",
       "      <td>0.74</td>\n",
       "      <td>0.33</td>\n",
       "      <td>13.0</td>\n",
       "      <td>NaN</td>\n",
       "    </tr>\n",
       "    <tr>\n",
       "      <th>94</th>\n",
       "      <td>0.60</td>\n",
       "      <td>0.12</td>\n",
       "      <td>19.0</td>\n",
       "      <td>NaN</td>\n",
       "    </tr>\n",
       "    <tr>\n",
       "      <th>136</th>\n",
       "      <td>0.49</td>\n",
       "      <td>0.33</td>\n",
       "      <td>19.0</td>\n",
       "      <td>NaN</td>\n",
       "    </tr>\n",
       "    <tr>\n",
       "      <th>279</th>\n",
       "      <td>NaN</td>\n",
       "      <td>0.28</td>\n",
       "      <td>15.0</td>\n",
       "      <td>NaN</td>\n",
       "    </tr>\n",
       "    <tr>\n",
       "      <th>291</th>\n",
       "      <td>0.54</td>\n",
       "      <td>0.21</td>\n",
       "      <td>NaN</td>\n",
       "      <td>False</td>\n",
       "    </tr>\n",
       "    <tr>\n",
       "      <th>673</th>\n",
       "      <td>0.71</td>\n",
       "      <td>0.30</td>\n",
       "      <td>17.0</td>\n",
       "      <td>NaN</td>\n",
       "    </tr>\n",
       "    <tr>\n",
       "      <th>1748</th>\n",
       "      <td>0.51</td>\n",
       "      <td>0.28</td>\n",
       "      <td>11.0</td>\n",
       "      <td>NaN</td>\n",
       "    </tr>\n",
       "    <tr>\n",
       "      <th>1875</th>\n",
       "      <td>NaN</td>\n",
       "      <td>0.19</td>\n",
       "      <td>19.0</td>\n",
       "      <td>False</td>\n",
       "    </tr>\n",
       "    <tr>\n",
       "      <th>1921</th>\n",
       "      <td>0.40</td>\n",
       "      <td>NaN</td>\n",
       "      <td>21.0</td>\n",
       "      <td>False</td>\n",
       "    </tr>\n",
       "    <tr>\n",
       "      <th>1948</th>\n",
       "      <td>0.51</td>\n",
       "      <td>0.17</td>\n",
       "      <td>22.0</td>\n",
       "      <td>NaN</td>\n",
       "    </tr>\n",
       "    <tr>\n",
       "      <th>1966</th>\n",
       "      <td>0.46</td>\n",
       "      <td>NaN</td>\n",
       "      <td>22.0</td>\n",
       "      <td>False</td>\n",
       "    </tr>\n",
       "    <tr>\n",
       "      <th>1981</th>\n",
       "      <td>NaN</td>\n",
       "      <td>0.15</td>\n",
       "      <td>11.0</td>\n",
       "      <td>False</td>\n",
       "    </tr>\n",
       "  </tbody>\n",
       "</table>\n",
       "</div>"
      ],
      "text/plain": [
       "         1     2     3 Target\n",
       "2     0.54  0.19   NaN   True\n",
       "3     0.46   NaN   9.0  False\n",
       "10    0.80  0.12  18.0    NaN\n",
       "32    0.46  0.14   9.0    NaN\n",
       "44    0.63  0.31  22.0    NaN\n",
       "62    0.74  0.22  20.0    NaN\n",
       "76    0.74  0.33  13.0    NaN\n",
       "94    0.60  0.12  19.0    NaN\n",
       "136   0.49  0.33  19.0    NaN\n",
       "279    NaN  0.28  15.0    NaN\n",
       "291   0.54  0.21   NaN  False\n",
       "673   0.71  0.30  17.0    NaN\n",
       "1748  0.51  0.28  11.0    NaN\n",
       "1875   NaN  0.19  19.0  False\n",
       "1921  0.40   NaN  21.0  False\n",
       "1948  0.51  0.17  22.0    NaN\n",
       "1966  0.46   NaN  22.0  False\n",
       "1981   NaN  0.15  11.0  False"
      ]
     },
     "execution_count": 36,
     "metadata": {},
     "output_type": "execute_result"
    }
   ],
   "source": [
    "df.loc[(df['1'].isnull())|(df['2'].isnull())|(df['3'].isnull())|(df['Target'].isnull())]\n",
    "#only 0.9% missing entries so we can delete these"
   ]
  },
  {
   "cell_type": "code",
   "execution_count": 37,
   "metadata": {},
   "outputs": [
    {
     "data": {
      "text/plain": [
       "1977"
      ]
     },
     "execution_count": 37,
     "metadata": {},
     "output_type": "execute_result"
    }
   ],
   "source": [
    "df_new=df.dropna()\n",
    "len(df_new)"
   ]
  },
  {
   "cell_type": "code",
   "execution_count": 38,
   "metadata": {},
   "outputs": [
    {
     "name": "stderr",
     "output_type": "stream",
     "text": [
      "C:\\Users\\Subrat\\Anaconda3\\lib\\site-packages\\ipykernel_launcher.py:5: SettingWithCopyWarning: \n",
      "A value is trying to be set on a copy of a slice from a DataFrame.\n",
      "Try using .loc[row_indexer,col_indexer] = value instead\n",
      "\n",
      "See the caveats in the documentation: https://pandas.pydata.org/pandas-docs/stable/user_guide/indexing.html#returning-a-view-versus-a-copy\n",
      "  \"\"\"\n"
     ]
    }
   ],
   "source": [
    "from sklearn import preprocessing\n",
    "lab_enc = preprocessing.LabelEncoder()\n",
    "lab_enc.fit(df_new['Target'])\n",
    "variable = lab_enc.transform(df_new['Target'])\n",
    "df_new['Target'] = variable"
   ]
  },
  {
   "cell_type": "code",
   "execution_count": 39,
   "metadata": {},
   "outputs": [
    {
     "data": {
      "text/html": [
       "<div>\n",
       "<style scoped>\n",
       "    .dataframe tbody tr th:only-of-type {\n",
       "        vertical-align: middle;\n",
       "    }\n",
       "\n",
       "    .dataframe tbody tr th {\n",
       "        vertical-align: top;\n",
       "    }\n",
       "\n",
       "    .dataframe thead th {\n",
       "        text-align: right;\n",
       "    }\n",
       "</style>\n",
       "<table border=\"1\" class=\"dataframe\">\n",
       "  <thead>\n",
       "    <tr style=\"text-align: right;\">\n",
       "      <th></th>\n",
       "      <th>1</th>\n",
       "      <th>2</th>\n",
       "      <th>3</th>\n",
       "      <th>Target</th>\n",
       "    </tr>\n",
       "  </thead>\n",
       "  <tbody>\n",
       "    <tr>\n",
       "      <th>0</th>\n",
       "      <td>0.60</td>\n",
       "      <td>0.31</td>\n",
       "      <td>13.0</td>\n",
       "      <td>0</td>\n",
       "    </tr>\n",
       "    <tr>\n",
       "      <th>1</th>\n",
       "      <td>0.74</td>\n",
       "      <td>0.33</td>\n",
       "      <td>21.0</td>\n",
       "      <td>0</td>\n",
       "    </tr>\n",
       "    <tr>\n",
       "      <th>4</th>\n",
       "      <td>0.77</td>\n",
       "      <td>0.15</td>\n",
       "      <td>15.0</td>\n",
       "      <td>1</td>\n",
       "    </tr>\n",
       "    <tr>\n",
       "      <th>5</th>\n",
       "      <td>0.46</td>\n",
       "      <td>0.17</td>\n",
       "      <td>18.0</td>\n",
       "      <td>0</td>\n",
       "    </tr>\n",
       "    <tr>\n",
       "      <th>6</th>\n",
       "      <td>0.49</td>\n",
       "      <td>0.26</td>\n",
       "      <td>10.0</td>\n",
       "      <td>0</td>\n",
       "    </tr>\n",
       "  </tbody>\n",
       "</table>\n",
       "</div>"
      ],
      "text/plain": [
       "      1     2     3  Target\n",
       "0  0.60  0.31  13.0       0\n",
       "1  0.74  0.33  21.0       0\n",
       "4  0.77  0.15  15.0       1\n",
       "5  0.46  0.17  18.0       0\n",
       "6  0.49  0.26  10.0       0"
      ]
     },
     "execution_count": 39,
     "metadata": {},
     "output_type": "execute_result"
    }
   ],
   "source": [
    "df_new.head()"
   ]
  },
  {
   "cell_type": "code",
   "execution_count": 40,
   "metadata": {},
   "outputs": [],
   "source": [
    "x,y=df_new.loc[:,df_new.columns !='Target'],df_new.loc[:,'Target']"
   ]
  },
  {
   "cell_type": "code",
   "execution_count": null,
   "metadata": {},
   "outputs": [],
   "source": []
  },
  {
   "cell_type": "code",
   "execution_count": 41,
   "metadata": {},
   "outputs": [],
   "source": [
    "xtrain,xtest,ytrain,ytest=train_test_split(x,y,random_state=42)"
   ]
  },
  {
   "cell_type": "code",
   "execution_count": 42,
   "metadata": {},
   "outputs": [
    {
     "data": {
      "text/plain": [
       "DecisionTreeClassifier(random_state=42)"
      ]
     },
     "execution_count": 42,
     "metadata": {},
     "output_type": "execute_result"
    }
   ],
   "source": [
    "clf_dt=DecisionTreeClassifier(random_state=42)\n",
    "clf_dt.fit(xtrain,ytrain)"
   ]
  },
  {
   "cell_type": "code",
   "execution_count": 43,
   "metadata": {},
   "outputs": [
    {
     "data": {
      "text/plain": [
       "[Text(580.5102272727272, 518.8909090909091, '3 <= 12.5\\ngini = 0.339\\nsamples = 1482\\nvalue = [1161, 321]\\nclass = False'),\n",
       " Text(314.5090909090909, 469.4727272727273, '1 <= 0.555\\ngini = 0.489\\nsamples = 443\\nvalue = [189, 254]\\nclass = True'),\n",
       " Text(164.86363636363635, 420.05454545454546, '2 <= 0.16\\ngini = 0.303\\nsamples = 183\\nvalue = [149, 34]\\nclass = False'),\n",
       " Text(96.38181818181818, 370.6363636363636, '3 <= 10.5\\ngini = 0.499\\nsamples = 44\\nvalue = [21, 23]\\nclass = True'),\n",
       " Text(60.87272727272727, 321.21818181818185, '1 <= 0.475\\ngini = 0.365\\nsamples = 25\\nvalue = [6, 19]\\nclass = True'),\n",
       " Text(50.72727272727272, 271.8, '3 <= 9.5\\ngini = 0.48\\nsamples = 10\\nvalue = [6, 4]\\nclass = False'),\n",
       " Text(30.436363636363634, 222.38181818181818, '1 <= 0.43\\ngini = 0.375\\nsamples = 4\\nvalue = [1, 3]\\nclass = True'),\n",
       " Text(20.29090909090909, 172.96363636363634, '2 <= 0.11\\ngini = 0.5\\nsamples = 2\\nvalue = [1, 1]\\nclass = False'),\n",
       " Text(10.145454545454545, 123.54545454545456, 'gini = 0.0\\nsamples = 1\\nvalue = [0, 1]\\nclass = True'),\n",
       " Text(30.436363636363634, 123.54545454545456, 'gini = 0.0\\nsamples = 1\\nvalue = [1, 0]\\nclass = False'),\n",
       " Text(40.58181818181818, 172.96363636363634, 'gini = 0.0\\nsamples = 2\\nvalue = [0, 2]\\nclass = True'),\n",
       " Text(71.01818181818182, 222.38181818181818, '2 <= 0.13\\ngini = 0.278\\nsamples = 6\\nvalue = [5, 1]\\nclass = False'),\n",
       " Text(60.87272727272727, 172.96363636363634, '2 <= 0.11\\ngini = 0.5\\nsamples = 2\\nvalue = [1, 1]\\nclass = False'),\n",
       " Text(50.72727272727272, 123.54545454545456, 'gini = 0.0\\nsamples = 1\\nvalue = [1, 0]\\nclass = False'),\n",
       " Text(71.01818181818182, 123.54545454545456, 'gini = 0.0\\nsamples = 1\\nvalue = [0, 1]\\nclass = True'),\n",
       " Text(81.16363636363636, 172.96363636363634, 'gini = 0.0\\nsamples = 4\\nvalue = [4, 0]\\nclass = False'),\n",
       " Text(71.01818181818182, 271.8, 'gini = 0.0\\nsamples = 15\\nvalue = [0, 15]\\nclass = True'),\n",
       " Text(131.89090909090908, 321.21818181818185, '1 <= 0.525\\ngini = 0.332\\nsamples = 19\\nvalue = [15, 4]\\nclass = False'),\n",
       " Text(121.74545454545454, 271.8, '2 <= 0.11\\ngini = 0.208\\nsamples = 17\\nvalue = [15, 2]\\nclass = False'),\n",
       " Text(111.6, 222.38181818181818, '3 <= 11.5\\ngini = 0.444\\nsamples = 6\\nvalue = [4, 2]\\nclass = False'),\n",
       " Text(101.45454545454544, 172.96363636363634, '1 <= 0.46\\ngini = 0.444\\nsamples = 3\\nvalue = [1, 2]\\nclass = True'),\n",
       " Text(91.3090909090909, 123.54545454545456, 'gini = 0.0\\nsamples = 1\\nvalue = [1, 0]\\nclass = False'),\n",
       " Text(111.6, 123.54545454545456, 'gini = 0.0\\nsamples = 2\\nvalue = [0, 2]\\nclass = True'),\n",
       " Text(121.74545454545454, 172.96363636363634, 'gini = 0.0\\nsamples = 3\\nvalue = [3, 0]\\nclass = False'),\n",
       " Text(131.89090909090908, 222.38181818181818, 'gini = 0.0\\nsamples = 11\\nvalue = [11, 0]\\nclass = False'),\n",
       " Text(142.03636363636363, 271.8, 'gini = 0.0\\nsamples = 2\\nvalue = [0, 2]\\nclass = True'),\n",
       " Text(233.34545454545452, 370.6363636363636, '3 <= 9.5\\ngini = 0.146\\nsamples = 139\\nvalue = [128, 11]\\nclass = False'),\n",
       " Text(182.6181818181818, 321.21818181818185, '1 <= 0.5\\ngini = 0.367\\nsamples = 33\\nvalue = [25, 8]\\nclass = False'),\n",
       " Text(162.3272727272727, 271.8, '2 <= 0.215\\ngini = 0.159\\nsamples = 23\\nvalue = [21, 2]\\nclass = False'),\n",
       " Text(152.18181818181816, 222.38181818181818, '1 <= 0.445\\ngini = 0.408\\nsamples = 7\\nvalue = [5, 2]\\nclass = False'),\n",
       " Text(142.03636363636363, 172.96363636363634, 'gini = 0.0\\nsamples = 4\\nvalue = [4, 0]\\nclass = False'),\n",
       " Text(162.3272727272727, 172.96363636363634, '2 <= 0.2\\ngini = 0.444\\nsamples = 3\\nvalue = [1, 2]\\nclass = True'),\n",
       " Text(152.18181818181816, 123.54545454545456, 'gini = 0.0\\nsamples = 1\\nvalue = [0, 1]\\nclass = True'),\n",
       " Text(172.47272727272727, 123.54545454545456, '1 <= 0.475\\ngini = 0.5\\nsamples = 2\\nvalue = [1, 1]\\nclass = False'),\n",
       " Text(162.3272727272727, 74.12727272727273, 'gini = 0.0\\nsamples = 1\\nvalue = [1, 0]\\nclass = False'),\n",
       " Text(182.6181818181818, 74.12727272727273, 'gini = 0.0\\nsamples = 1\\nvalue = [0, 1]\\nclass = True'),\n",
       " Text(172.47272727272727, 222.38181818181818, 'gini = 0.0\\nsamples = 16\\nvalue = [16, 0]\\nclass = False'),\n",
       " Text(202.90909090909088, 271.8, '2 <= 0.295\\ngini = 0.48\\nsamples = 10\\nvalue = [4, 6]\\nclass = True'),\n",
       " Text(192.76363636363635, 222.38181818181818, 'gini = 0.0\\nsamples = 5\\nvalue = [0, 5]\\nclass = True'),\n",
       " Text(213.05454545454543, 222.38181818181818, '1 <= 0.525\\ngini = 0.32\\nsamples = 5\\nvalue = [4, 1]\\nclass = False'),\n",
       " Text(202.90909090909088, 172.96363636363634, 'gini = 0.0\\nsamples = 3\\nvalue = [3, 0]\\nclass = False'),\n",
       " Text(223.2, 172.96363636363634, '2 <= 0.33\\ngini = 0.5\\nsamples = 2\\nvalue = [1, 1]\\nclass = False'),\n",
       " Text(213.05454545454543, 123.54545454545456, 'gini = 0.0\\nsamples = 1\\nvalue = [0, 1]\\nclass = True'),\n",
       " Text(233.34545454545452, 123.54545454545456, 'gini = 0.0\\nsamples = 1\\nvalue = [1, 0]\\nclass = False'),\n",
       " Text(284.07272727272726, 321.21818181818185, '2 <= 0.18\\ngini = 0.055\\nsamples = 106\\nvalue = [103, 3]\\nclass = False'),\n",
       " Text(263.78181818181815, 271.8, '3 <= 10.5\\ngini = 0.26\\nsamples = 13\\nvalue = [11, 2]\\nclass = False'),\n",
       " Text(253.63636363636363, 222.38181818181818, '1 <= 0.47\\ngini = 0.444\\nsamples = 3\\nvalue = [1, 2]\\nclass = True'),\n",
       " Text(243.49090909090907, 172.96363636363634, 'gini = 0.0\\nsamples = 1\\nvalue = [1, 0]\\nclass = False'),\n",
       " Text(263.78181818181815, 172.96363636363634, 'gini = 0.0\\nsamples = 2\\nvalue = [0, 2]\\nclass = True'),\n",
       " Text(273.9272727272727, 222.38181818181818, 'gini = 0.0\\nsamples = 10\\nvalue = [10, 0]\\nclass = False'),\n",
       " Text(304.3636363636363, 271.8, '1 <= 0.525\\ngini = 0.021\\nsamples = 93\\nvalue = [92, 1]\\nclass = False'),\n",
       " Text(294.2181818181818, 222.38181818181818, 'gini = 0.0\\nsamples = 76\\nvalue = [76, 0]\\nclass = False'),\n",
       " Text(314.5090909090909, 222.38181818181818, '2 <= 0.215\\ngini = 0.111\\nsamples = 17\\nvalue = [16, 1]\\nclass = False'),\n",
       " Text(304.3636363636363, 172.96363636363634, '3 <= 10.5\\ngini = 0.444\\nsamples = 3\\nvalue = [2, 1]\\nclass = False'),\n",
       " Text(294.2181818181818, 123.54545454545456, 'gini = 0.0\\nsamples = 1\\nvalue = [0, 1]\\nclass = True'),\n",
       " Text(314.5090909090909, 123.54545454545456, 'gini = 0.0\\nsamples = 2\\nvalue = [2, 0]\\nclass = False'),\n",
       " Text(324.6545454545454, 172.96363636363634, 'gini = 0.0\\nsamples = 14\\nvalue = [14, 0]\\nclass = False'),\n",
       " Text(464.1545454545454, 420.05454545454546, '1 <= 0.645\\ngini = 0.26\\nsamples = 260\\nvalue = [40, 220]\\nclass = True'),\n",
       " Text(410.8909090909091, 370.6363636363636, '3 <= 10.5\\ngini = 0.431\\nsamples = 102\\nvalue = [32, 70]\\nclass = True'),\n",
       " Text(365.2363636363636, 321.21818181818185, '2 <= 0.305\\ngini = 0.103\\nsamples = 55\\nvalue = [3, 52]\\nclass = True'),\n",
       " Text(344.94545454545454, 271.8, '2 <= 0.27\\ngini = 0.042\\nsamples = 47\\nvalue = [1, 46]\\nclass = True'),\n",
       " Text(334.79999999999995, 222.38181818181818, 'gini = 0.0\\nsamples = 37\\nvalue = [0, 37]\\nclass = True'),\n",
       " Text(355.09090909090907, 222.38181818181818, '1 <= 0.585\\ngini = 0.18\\nsamples = 10\\nvalue = [1, 9]\\nclass = True'),\n",
       " Text(344.94545454545454, 172.96363636363634, '2 <= 0.29\\ngini = 0.5\\nsamples = 2\\nvalue = [1, 1]\\nclass = False'),\n",
       " Text(334.79999999999995, 123.54545454545456, 'gini = 0.0\\nsamples = 1\\nvalue = [1, 0]\\nclass = False'),\n",
       " Text(355.09090909090907, 123.54545454545456, 'gini = 0.0\\nsamples = 1\\nvalue = [0, 1]\\nclass = True'),\n",
       " Text(365.2363636363636, 172.96363636363634, 'gini = 0.0\\nsamples = 8\\nvalue = [0, 8]\\nclass = True'),\n",
       " Text(385.5272727272727, 271.8, '3 <= 9.5\\ngini = 0.375\\nsamples = 8\\nvalue = [2, 6]\\nclass = True'),\n",
       " Text(375.3818181818182, 222.38181818181818, 'gini = 0.0\\nsamples = 6\\nvalue = [0, 6]\\nclass = True'),\n",
       " Text(395.67272727272723, 222.38181818181818, 'gini = 0.0\\nsamples = 2\\nvalue = [2, 0]\\nclass = False'),\n",
       " Text(456.5454545454545, 321.21818181818185, '2 <= 0.2\\ngini = 0.473\\nsamples = 47\\nvalue = [29, 18]\\nclass = False'),\n",
       " Text(426.10909090909087, 271.8, '3 <= 11.5\\ngini = 0.351\\nsamples = 22\\nvalue = [5, 17]\\nclass = True'),\n",
       " Text(415.96363636363634, 222.38181818181818, 'gini = 0.0\\nsamples = 10\\nvalue = [0, 10]\\nclass = True'),\n",
       " Text(436.2545454545454, 222.38181818181818, '1 <= 0.615\\ngini = 0.486\\nsamples = 12\\nvalue = [5, 7]\\nclass = True'),\n",
       " Text(426.10909090909087, 172.96363636363634, '2 <= 0.16\\ngini = 0.494\\nsamples = 9\\nvalue = [5, 4]\\nclass = False'),\n",
       " Text(415.96363636363634, 123.54545454545456, '1 <= 0.585\\ngini = 0.444\\nsamples = 6\\nvalue = [2, 4]\\nclass = True'),\n",
       " Text(405.81818181818176, 74.12727272727273, '2 <= 0.13\\ngini = 0.444\\nsamples = 3\\nvalue = [2, 1]\\nclass = False'),\n",
       " Text(395.67272727272723, 24.709090909090946, 'gini = 0.0\\nsamples = 1\\nvalue = [0, 1]\\nclass = True'),\n",
       " Text(415.96363636363634, 24.709090909090946, 'gini = 0.0\\nsamples = 2\\nvalue = [2, 0]\\nclass = False'),\n",
       " Text(426.10909090909087, 74.12727272727273, 'gini = 0.0\\nsamples = 3\\nvalue = [0, 3]\\nclass = True'),\n",
       " Text(436.2545454545454, 123.54545454545456, 'gini = 0.0\\nsamples = 3\\nvalue = [3, 0]\\nclass = False'),\n",
       " Text(446.4, 172.96363636363634, 'gini = 0.0\\nsamples = 3\\nvalue = [0, 3]\\nclass = True'),\n",
       " Text(486.98181818181814, 271.8, '2 <= 0.25\\ngini = 0.077\\nsamples = 25\\nvalue = [24, 1]\\nclass = False'),\n",
       " Text(476.8363636363636, 222.38181818181818, '3 <= 11.5\\ngini = 0.198\\nsamples = 9\\nvalue = [8, 1]\\nclass = False'),\n",
       " Text(466.69090909090903, 172.96363636363634, '1 <= 0.6\\ngini = 0.444\\nsamples = 3\\nvalue = [2, 1]\\nclass = False'),\n",
       " Text(456.5454545454545, 123.54545454545456, 'gini = 0.0\\nsamples = 2\\nvalue = [2, 0]\\nclass = False'),\n",
       " Text(476.8363636363636, 123.54545454545456, 'gini = 0.0\\nsamples = 1\\nvalue = [0, 1]\\nclass = True'),\n",
       " Text(486.98181818181814, 172.96363636363634, 'gini = 0.0\\nsamples = 6\\nvalue = [6, 0]\\nclass = False'),\n",
       " Text(497.12727272727267, 222.38181818181818, 'gini = 0.0\\nsamples = 16\\nvalue = [16, 0]\\nclass = False'),\n",
       " Text(517.4181818181818, 370.6363636363636, '3 <= 4.5\\ngini = 0.096\\nsamples = 158\\nvalue = [8, 150]\\nclass = True'),\n",
       " Text(507.27272727272725, 321.21818181818185, 'gini = 0.0\\nsamples = 1\\nvalue = [1, 0]\\nclass = False'),\n",
       " Text(527.5636363636363, 321.21818181818185, '2 <= 0.29\\ngini = 0.085\\nsamples = 157\\nvalue = [7, 150]\\nclass = True'),\n",
       " Text(517.4181818181818, 271.8, 'gini = 0.0\\nsamples = 116\\nvalue = [0, 116]\\nclass = True'),\n",
       " Text(537.7090909090908, 271.8, '3 <= 11.5\\ngini = 0.283\\nsamples = 41\\nvalue = [7, 34]\\nclass = True'),\n",
       " Text(517.4181818181818, 222.38181818181818, '1 <= 0.675\\ngini = 0.069\\nsamples = 28\\nvalue = [1, 27]\\nclass = True'),\n",
       " Text(507.27272727272725, 172.96363636363634, '3 <= 10.5\\ngini = 0.444\\nsamples = 3\\nvalue = [1, 2]\\nclass = True'),\n",
       " Text(497.12727272727267, 123.54545454545456, 'gini = 0.0\\nsamples = 2\\nvalue = [0, 2]\\nclass = True'),\n",
       " Text(517.4181818181818, 123.54545454545456, 'gini = 0.0\\nsamples = 1\\nvalue = [1, 0]\\nclass = False'),\n",
       " Text(527.5636363636363, 172.96363636363634, 'gini = 0.0\\nsamples = 25\\nvalue = [0, 25]\\nclass = True'),\n",
       " Text(558.0, 222.38181818181818, '1 <= 0.725\\ngini = 0.497\\nsamples = 13\\nvalue = [6, 7]\\nclass = True'),\n",
       " Text(547.8545454545454, 172.96363636363634, 'gini = 0.0\\nsamples = 5\\nvalue = [5, 0]\\nclass = False'),\n",
       " Text(568.1454545454545, 172.96363636363634, '2 <= 0.34\\ngini = 0.219\\nsamples = 8\\nvalue = [1, 7]\\nclass = True'),\n",
       " Text(558.0, 123.54545454545456, 'gini = 0.0\\nsamples = 5\\nvalue = [0, 5]\\nclass = True'),\n",
       " Text(578.290909090909, 123.54545454545456, '1 <= 0.755\\ngini = 0.444\\nsamples = 3\\nvalue = [1, 2]\\nclass = True'),\n",
       " Text(568.1454545454545, 74.12727272727273, 'gini = 0.0\\nsamples = 1\\nvalue = [1, 0]\\nclass = False'),\n",
       " Text(588.4363636363636, 74.12727272727273, 'gini = 0.0\\nsamples = 2\\nvalue = [0, 2]\\nclass = True'),\n",
       " Text(846.5113636363635, 469.4727272727273, '3 <= 14.5\\ngini = 0.121\\nsamples = 1039\\nvalue = [972, 67]\\nclass = False'),\n",
       " Text(711.4499999999999, 420.05454545454546, '1 <= 0.725\\ngini = 0.343\\nsamples = 205\\nvalue = [160, 45]\\nclass = False'),\n",
       " Text(631.5545454545454, 370.6363636363636, '1 <= 0.615\\ngini = 0.179\\nsamples = 161\\nvalue = [145, 16]\\nclass = False'),\n",
       " Text(598.5818181818181, 321.21818181818185, '2 <= 0.11\\ngini = 0.018\\nsamples = 108\\nvalue = [107, 1]\\nclass = False'),\n",
       " Text(588.4363636363636, 271.8, '1 <= 0.585\\ngini = 0.198\\nsamples = 9\\nvalue = [8, 1]\\nclass = False'),\n",
       " Text(578.290909090909, 222.38181818181818, 'gini = 0.0\\nsamples = 7\\nvalue = [7, 0]\\nclass = False'),\n",
       " Text(598.5818181818181, 222.38181818181818, '3 <= 13.5\\ngini = 0.5\\nsamples = 2\\nvalue = [1, 1]\\nclass = False'),\n",
       " Text(588.4363636363636, 172.96363636363634, 'gini = 0.0\\nsamples = 1\\nvalue = [0, 1]\\nclass = True'),\n",
       " Text(608.7272727272726, 172.96363636363634, 'gini = 0.0\\nsamples = 1\\nvalue = [1, 0]\\nclass = False'),\n",
       " Text(608.7272727272726, 271.8, 'gini = 0.0\\nsamples = 99\\nvalue = [99, 0]\\nclass = False'),\n",
       " Text(664.5272727272727, 321.21818181818185, '2 <= 0.16\\ngini = 0.406\\nsamples = 53\\nvalue = [38, 15]\\nclass = False'),\n",
       " Text(629.0181818181818, 271.8, '2 <= 0.145\\ngini = 0.142\\nsamples = 13\\nvalue = [1, 12]\\nclass = True'),\n",
       " Text(618.8727272727273, 222.38181818181818, 'gini = 0.0\\nsamples = 10\\nvalue = [0, 10]\\nclass = True'),\n",
       " Text(639.1636363636363, 222.38181818181818, '3 <= 13.5\\ngini = 0.444\\nsamples = 3\\nvalue = [1, 2]\\nclass = True'),\n",
       " Text(629.0181818181818, 172.96363636363634, 'gini = 0.0\\nsamples = 2\\nvalue = [0, 2]\\nclass = True'),\n",
       " Text(649.3090909090909, 172.96363636363634, 'gini = 0.0\\nsamples = 1\\nvalue = [1, 0]\\nclass = False'),\n",
       " Text(700.0363636363636, 271.8, '2 <= 0.2\\ngini = 0.139\\nsamples = 40\\nvalue = [37, 3]\\nclass = False'),\n",
       " Text(679.7454545454544, 222.38181818181818, '1 <= 0.675\\ngini = 0.48\\nsamples = 5\\nvalue = [3, 2]\\nclass = False'),\n",
       " Text(669.5999999999999, 172.96363636363634, 'gini = 0.0\\nsamples = 2\\nvalue = [2, 0]\\nclass = False'),\n",
       " Text(689.8909090909091, 172.96363636363634, '3 <= 13.5\\ngini = 0.444\\nsamples = 3\\nvalue = [1, 2]\\nclass = True'),\n",
       " Text(679.7454545454544, 123.54545454545456, 'gini = 0.0\\nsamples = 2\\nvalue = [0, 2]\\nclass = True'),\n",
       " Text(700.0363636363636, 123.54545454545456, 'gini = 0.0\\nsamples = 1\\nvalue = [1, 0]\\nclass = False'),\n",
       " Text(720.3272727272727, 222.38181818181818, '1 <= 0.7\\ngini = 0.056\\nsamples = 35\\nvalue = [34, 1]\\nclass = False'),\n",
       " Text(710.1818181818181, 172.96363636363634, 'gini = 0.0\\nsamples = 26\\nvalue = [26, 0]\\nclass = False'),\n",
       " Text(730.4727272727272, 172.96363636363634, '2 <= 0.24\\ngini = 0.198\\nsamples = 9\\nvalue = [8, 1]\\nclass = False'),\n",
       " Text(720.3272727272727, 123.54545454545456, '3 <= 13.5\\ngini = 0.444\\nsamples = 3\\nvalue = [2, 1]\\nclass = False'),\n",
       " Text(710.1818181818181, 74.12727272727273, 'gini = 0.0\\nsamples = 1\\nvalue = [0, 1]\\nclass = True'),\n",
       " Text(730.4727272727272, 74.12727272727273, 'gini = 0.0\\nsamples = 2\\nvalue = [2, 0]\\nclass = False'),\n",
       " Text(740.6181818181817, 123.54545454545456, 'gini = 0.0\\nsamples = 6\\nvalue = [6, 0]\\nclass = False'),\n",
       " Text(791.3454545454545, 370.6363636363636, '2 <= 0.23\\ngini = 0.449\\nsamples = 44\\nvalue = [15, 29]\\nclass = True'),\n",
       " Text(781.1999999999999, 321.21818181818185, 'gini = 0.0\\nsamples = 25\\nvalue = [0, 25]\\nclass = True'),\n",
       " Text(801.490909090909, 321.21818181818185, '2 <= 0.29\\ngini = 0.332\\nsamples = 19\\nvalue = [15, 4]\\nclass = False'),\n",
       " Text(791.3454545454545, 271.8, '1 <= 0.785\\ngini = 0.463\\nsamples = 11\\nvalue = [7, 4]\\nclass = False'),\n",
       " Text(781.1999999999999, 222.38181818181818, '3 <= 13.5\\ngini = 0.219\\nsamples = 8\\nvalue = [7, 1]\\nclass = False'),\n",
       " Text(771.0545454545454, 172.96363636363634, '1 <= 0.755\\ngini = 0.444\\nsamples = 3\\nvalue = [2, 1]\\nclass = False'),\n",
       " Text(760.9090909090909, 123.54545454545456, 'gini = 0.0\\nsamples = 2\\nvalue = [2, 0]\\nclass = False'),\n",
       " Text(781.1999999999999, 123.54545454545456, 'gini = 0.0\\nsamples = 1\\nvalue = [0, 1]\\nclass = True'),\n",
       " Text(791.3454545454545, 172.96363636363634, 'gini = 0.0\\nsamples = 5\\nvalue = [5, 0]\\nclass = False'),\n",
       " Text(801.490909090909, 222.38181818181818, 'gini = 0.0\\nsamples = 3\\nvalue = [0, 3]\\nclass = True'),\n",
       " Text(811.6363636363635, 271.8, 'gini = 0.0\\nsamples = 8\\nvalue = [8, 0]\\nclass = False'),\n",
       " Text(981.5727272727272, 420.05454545454546, '2 <= 0.145\\ngini = 0.051\\nsamples = 834\\nvalue = [812, 22]\\nclass = False'),\n",
       " Text(877.5818181818181, 370.6363636363636, '1 <= 0.415\\ngini = 0.193\\nsamples = 166\\nvalue = [148, 18]\\nclass = False'),\n",
       " Text(842.0727272727272, 321.21818181818185, '3 <= 18.5\\ngini = 0.486\\nsamples = 12\\nvalue = [5, 7]\\nclass = True'),\n",
       " Text(831.9272727272727, 271.8, 'gini = 0.0\\nsamples = 5\\nvalue = [5, 0]\\nclass = False'),\n",
       " Text(852.2181818181817, 271.8, 'gini = 0.0\\nsamples = 7\\nvalue = [0, 7]\\nclass = True'),\n",
       " Text(913.090909090909, 321.21818181818185, '3 <= 15.5\\ngini = 0.133\\nsamples = 154\\nvalue = [143, 11]\\nclass = False'),\n",
       " Text(872.5090909090908, 271.8, '1 <= 0.675\\ngini = 0.455\\nsamples = 20\\nvalue = [13, 7]\\nclass = False'),\n",
       " Text(862.3636363636363, 222.38181818181818, 'gini = 0.0\\nsamples = 12\\nvalue = [12, 0]\\nclass = False'),\n",
       " Text(882.6545454545454, 222.38181818181818, '2 <= 0.13\\ngini = 0.219\\nsamples = 8\\nvalue = [1, 7]\\nclass = True'),\n",
       " Text(872.5090909090908, 172.96363636363634, 'gini = 0.0\\nsamples = 5\\nvalue = [0, 5]\\nclass = True'),\n",
       " Text(892.8, 172.96363636363634, '1 <= 0.74\\ngini = 0.444\\nsamples = 3\\nvalue = [1, 2]\\nclass = True'),\n",
       " Text(882.6545454545454, 123.54545454545456, 'gini = 0.0\\nsamples = 1\\nvalue = [1, 0]\\nclass = False'),\n",
       " Text(902.9454545454545, 123.54545454545456, 'gini = 0.0\\nsamples = 2\\nvalue = [0, 2]\\nclass = True'),\n",
       " Text(953.6727272727272, 271.8, '1 <= 0.445\\ngini = 0.058\\nsamples = 134\\nvalue = [130, 4]\\nclass = False'),\n",
       " Text(923.2363636363635, 222.38181818181818, '3 <= 20.5\\ngini = 0.32\\nsamples = 10\\nvalue = [8, 2]\\nclass = False'),\n",
       " Text(913.090909090909, 172.96363636363634, 'gini = 0.0\\nsamples = 8\\nvalue = [8, 0]\\nclass = False'),\n",
       " Text(933.3818181818181, 172.96363636363634, 'gini = 0.0\\nsamples = 2\\nvalue = [0, 2]\\nclass = True'),\n",
       " Text(984.1090909090908, 222.38181818181818, '1 <= 0.475\\ngini = 0.032\\nsamples = 124\\nvalue = [122, 2]\\nclass = False'),\n",
       " Text(953.6727272727272, 172.96363636363634, '3 <= 21.0\\ngini = 0.142\\nsamples = 13\\nvalue = [12, 1]\\nclass = False'),\n",
       " Text(943.5272727272727, 123.54545454545456, 'gini = 0.0\\nsamples = 11\\nvalue = [11, 0]\\nclass = False'),\n",
       " Text(963.8181818181818, 123.54545454545456, '2 <= 0.13\\ngini = 0.5\\nsamples = 2\\nvalue = [1, 1]\\nclass = False'),\n",
       " Text(953.6727272727272, 74.12727272727273, 'gini = 0.0\\nsamples = 1\\nvalue = [0, 1]\\nclass = True'),\n",
       " Text(973.9636363636363, 74.12727272727273, 'gini = 0.0\\nsamples = 1\\nvalue = [1, 0]\\nclass = False'),\n",
       " Text(1014.5454545454545, 172.96363636363634, '3 <= 16.5\\ngini = 0.018\\nsamples = 111\\nvalue = [110, 1]\\nclass = False'),\n",
       " Text(1004.3999999999999, 123.54545454545456, '1 <= 0.74\\ngini = 0.133\\nsamples = 14\\nvalue = [13, 1]\\nclass = False'),\n",
       " Text(994.2545454545453, 74.12727272727273, 'gini = 0.0\\nsamples = 12\\nvalue = [12, 0]\\nclass = False'),\n",
       " Text(1014.5454545454545, 74.12727272727273, '2 <= 0.12\\ngini = 0.5\\nsamples = 2\\nvalue = [1, 1]\\nclass = False'),\n",
       " Text(1004.3999999999999, 24.709090909090946, 'gini = 0.0\\nsamples = 1\\nvalue = [0, 1]\\nclass = True'),\n",
       " Text(1024.690909090909, 24.709090909090946, 'gini = 0.0\\nsamples = 1\\nvalue = [1, 0]\\nclass = False'),\n",
       " Text(1024.690909090909, 123.54545454545456, 'gini = 0.0\\nsamples = 97\\nvalue = [97, 0]\\nclass = False'),\n",
       " Text(1085.5636363636363, 370.6363636363636, '2 <= 0.2\\ngini = 0.012\\nsamples = 668\\nvalue = [664, 4]\\nclass = False'),\n",
       " Text(1075.4181818181817, 321.21818181818185, '1 <= 0.785\\ngini = 0.049\\nsamples = 159\\nvalue = [155, 4]\\nclass = False'),\n",
       " Text(1055.1272727272726, 271.8, '1 <= 0.415\\ngini = 0.027\\nsamples = 147\\nvalue = [145, 2]\\nclass = False'),\n",
       " Text(1044.9818181818182, 222.38181818181818, '3 <= 20.0\\ngini = 0.26\\nsamples = 13\\nvalue = [11, 2]\\nclass = False'),\n",
       " Text(1034.8363636363636, 172.96363636363634, 'gini = 0.0\\nsamples = 11\\nvalue = [11, 0]\\nclass = False'),\n",
       " Text(1055.1272727272726, 172.96363636363634, 'gini = 0.0\\nsamples = 2\\nvalue = [0, 2]\\nclass = True'),\n",
       " Text(1065.2727272727273, 222.38181818181818, 'gini = 0.0\\nsamples = 134\\nvalue = [134, 0]\\nclass = False'),\n",
       " Text(1095.7090909090907, 271.8, '3 <= 15.5\\ngini = 0.278\\nsamples = 12\\nvalue = [10, 2]\\nclass = False'),\n",
       " Text(1085.5636363636363, 222.38181818181818, 'gini = 0.0\\nsamples = 2\\nvalue = [0, 2]\\nclass = True'),\n",
       " Text(1105.8545454545454, 222.38181818181818, 'gini = 0.0\\nsamples = 10\\nvalue = [10, 0]\\nclass = False'),\n",
       " Text(1095.7090909090907, 321.21818181818185, 'gini = 0.0\\nsamples = 509\\nvalue = [509, 0]\\nclass = False')]"
      ]
     },
     "execution_count": 43,
     "metadata": {},
     "output_type": "execute_result"
    },
    {
     "data": {
      "image/png": "[encoded data removed]",
      "text/plain": [
       "<Figure size 1440x720 with 1 Axes>"
      ]
     },
     "metadata": {
      "needs_background": "light"
     },
     "output_type": "display_data"
    }
   ],
   "source": [
    "plt.figure(figsize=(20,10))\n",
    "plot_tree(clf_dt,\n",
    "          filled=True,\n",
    "          rounded=True,\n",
    "          class_names=['False','True'],\n",
    "          feature_names=x.columns)"
   ]
  },
  {
   "cell_type": "code",
   "execution_count": 44,
   "metadata": {},
   "outputs": [
    {
     "data": {
      "text/plain": [
       "<sklearn.metrics._plot.confusion_matrix.ConfusionMatrixDisplay at 0x1a107cd8748>"
      ]
     },
     "execution_count": 44,
     "metadata": {},
     "output_type": "execute_result"
    },
    {
     "data": {
      "image/png": "[encoded data removed]",
      "text/plain": [
       "<Figure size 432x288 with 2 Axes>"
      ]
     },
     "metadata": {
      "needs_background": "light"
     },
     "output_type": "display_data"
    }
   ],
   "source": [
    "plot_confusion_matrix(clf_dt,xtest,ytest,display_labels=['False','True'])\n",
    "#false correctly classified 97.97%\n",
    "#true correctly classified 88.88%"
   ]
  },
  {
   "cell_type": "code",
   "execution_count": 45,
   "metadata": {},
   "outputs": [
    {
     "data": {
      "text/plain": [
       "0.9616161616161616"
      ]
     },
     "execution_count": 45,
     "metadata": {},
     "output_type": "execute_result"
    }
   ],
   "source": [
    "clf_dt.score(xtest,ytest)#accuracy without SMOTE"
   ]
  },
  {
   "cell_type": "raw",
   "metadata": {},
   "source": [
    "As we know this is a unbalanced dataset So we can use smote technique"
   ]
  },
  {
   "cell_type": "code",
   "execution_count": 53,
   "metadata": {},
   "outputs": [],
   "source": [
    "from imblearn.over_sampling import SMOTE\n",
    "smt=SMOTE()"
   ]
  },
  {
   "cell_type": "code",
   "execution_count": 54,
   "metadata": {},
   "outputs": [],
   "source": [
    "X,Y=smt.fit_sample(x,y)"
   ]
  },
  {
   "cell_type": "code",
   "execution_count": 55,
   "metadata": {},
   "outputs": [
    {
     "data": {
      "text/plain": [
       "((3114, 3), (3114,))"
      ]
     },
     "execution_count": 55,
     "metadata": {},
     "output_type": "execute_result"
    }
   ],
   "source": [
    "X.shape,Y.shape"
   ]
  },
  {
   "cell_type": "code",
   "execution_count": 56,
   "metadata": {},
   "outputs": [],
   "source": [
    "Xtrain,Xtest,Ytrain,Ytest=train_test_split(X,Y,random_state=42)"
   ]
  },
  {
   "cell_type": "code",
   "execution_count": 57,
   "metadata": {},
   "outputs": [
    {
     "data": {
      "text/plain": [
       "DecisionTreeClassifier(random_state=42)"
      ]
     },
     "execution_count": 57,
     "metadata": {},
     "output_type": "execute_result"
    }
   ],
   "source": [
    "clf=DecisionTreeClassifier(random_state=42)\n",
    "clf.fit(Xtrain,Ytrain)"
   ]
  },
  {
   "cell_type": "code",
   "execution_count": 58,
   "metadata": {},
   "outputs": [
    {
     "data": {
      "text/plain": [
       "0.9589216944801027"
      ]
     },
     "execution_count": 58,
     "metadata": {},
     "output_type": "execute_result"
    }
   ],
   "source": [
    "clf.score(Xtest,Ytest)"
   ]
  },
  {
   "cell_type": "code",
   "execution_count": 59,
   "metadata": {},
   "outputs": [
    {
     "data": {
      "text/plain": [
       "<sklearn.metrics._plot.confusion_matrix.ConfusionMatrixDisplay at 0x1a1081552c8>"
      ]
     },
     "execution_count": 59,
     "metadata": {},
     "output_type": "execute_result"
    },
    {
     "data": {
      "image/png": "[encoded data removed]",
      "text/plain": [
       "<Figure size 432x288 with 2 Axes>"
      ]
     },
     "metadata": {
      "needs_background": "light"
     },
     "output_type": "display_data"
    }
   ],
   "source": [
    "plot_confusion_matrix(clf_dt,Xtest,Ytest,display_labels=['False','True'])\n",
    "#false correctly classified 99.97% by implementing smote\n",
    "#true correctly classified 97.12% so 9% increase in classification for true."
   ]
  },
  {
   "cell_type": "code",
   "execution_count": null,
   "metadata": {},
   "outputs": [],
   "source": []
  },
  {
   "cell_type": "code",
   "execution_count": 77,
   "metadata": {},
   "outputs": [
    {
     "data": {
      "text/plain": [
       "855"
      ]
     },
     "execution_count": 77,
     "metadata": {},
     "output_type": "execute_result"
    }
   ],
   "source": [
    "ur2= 'https://raw.githubusercontent.com/cctech-labs/challenges/master/2020/06/hiring/resources/data_science/challenge2_prediction.csv'\n",
    "df2 = pd.read_csv(ur2,error_bad_lines=False)\n",
    "df2.head()\n",
    "len(df2)"
   ]
  },
  {
   "cell_type": "code",
   "execution_count": 78,
   "metadata": {},
   "outputs": [],
   "source": [
    "zero_not_accepted=['1','2','3']\n",
    "for column in zero_not_accepted:\n",
    "    \n",
    "    mean=int(df2[column].mean(skipna=True))\n",
    "    df2[column]=df2[column].replace(np.NaN,mean)"
   ]
  },
  {
   "cell_type": "code",
   "execution_count": 79,
   "metadata": {},
   "outputs": [
    {
     "data": {
      "text/plain": [
       "1    0\n",
       "2    0\n",
       "3    0\n",
       "dtype: int64"
      ]
     },
     "execution_count": 79,
     "metadata": {},
     "output_type": "execute_result"
    }
   ],
   "source": [
    "df2.isnull().sum()"
   ]
  },
  {
   "cell_type": "code",
   "execution_count": 83,
   "metadata": {},
   "outputs": [
    {
     "data": {
      "text/plain": [
       "(855,)"
      ]
     },
     "execution_count": 83,
     "metadata": {},
     "output_type": "execute_result"
    }
   ],
   "source": [
    "pred_clf=clf.predict(df2)\n",
    "pred_clf.shape"
   ]
  },
  {
   "cell_type": "code",
   "execution_count": 84,
   "metadata": {},
   "outputs": [
    {
     "data": {
      "text/html": [
       "<div>\n",
       "<style scoped>\n",
       "    .dataframe tbody tr th:only-of-type {\n",
       "        vertical-align: middle;\n",
       "    }\n",
       "\n",
       "    .dataframe tbody tr th {\n",
       "        vertical-align: top;\n",
       "    }\n",
       "\n",
       "    .dataframe thead th {\n",
       "        text-align: right;\n",
       "    }\n",
       "</style>\n",
       "<table border=\"1\" class=\"dataframe\">\n",
       "  <thead>\n",
       "    <tr style=\"text-align: right;\">\n",
       "      <th></th>\n",
       "      <th>Target</th>\n",
       "    </tr>\n",
       "  </thead>\n",
       "  <tbody>\n",
       "    <tr>\n",
       "      <th>0</th>\n",
       "      <td>0</td>\n",
       "    </tr>\n",
       "    <tr>\n",
       "      <th>1</th>\n",
       "      <td>0</td>\n",
       "    </tr>\n",
       "    <tr>\n",
       "      <th>2</th>\n",
       "      <td>1</td>\n",
       "    </tr>\n",
       "    <tr>\n",
       "      <th>3</th>\n",
       "      <td>0</td>\n",
       "    </tr>\n",
       "    <tr>\n",
       "      <th>4</th>\n",
       "      <td>0</td>\n",
       "    </tr>\n",
       "    <tr>\n",
       "      <th>...</th>\n",
       "      <td>...</td>\n",
       "    </tr>\n",
       "    <tr>\n",
       "      <th>850</th>\n",
       "      <td>0</td>\n",
       "    </tr>\n",
       "    <tr>\n",
       "      <th>851</th>\n",
       "      <td>1</td>\n",
       "    </tr>\n",
       "    <tr>\n",
       "      <th>852</th>\n",
       "      <td>0</td>\n",
       "    </tr>\n",
       "    <tr>\n",
       "      <th>853</th>\n",
       "      <td>0</td>\n",
       "    </tr>\n",
       "    <tr>\n",
       "      <th>854</th>\n",
       "      <td>0</td>\n",
       "    </tr>\n",
       "  </tbody>\n",
       "</table>\n",
       "<p>855 rows × 1 columns</p>\n",
       "</div>"
      ],
      "text/plain": [
       "     Target\n",
       "0         0\n",
       "1         0\n",
       "2         1\n",
       "3         0\n",
       "4         0\n",
       "..      ...\n",
       "850       0\n",
       "851       1\n",
       "852       0\n",
       "853       0\n",
       "854       0\n",
       "\n",
       "[855 rows x 1 columns]"
      ]
     },
     "execution_count": 84,
     "metadata": {},
     "output_type": "execute_result"
    }
   ],
   "source": [
    "dataset = pd.DataFrame({'Target':pred_clf})\n",
    "dataset"
   ]
  },
  {
   "cell_type": "code",
   "execution_count": 88,
   "metadata": {},
   "outputs": [
    {
     "data": {
      "text/plain": [
       "False    660\n",
       "True     195\n",
       "Name: Target, dtype: int64"
      ]
     },
     "execution_count": 88,
     "metadata": {},
     "output_type": "execute_result"
    }
   ],
   "source": [
    "result= pd.concat([dff,dataset],axis=1)\n",
    "result['Target'] = result['Target'].map({1: True,0: False})\n"
   ]
  },
  {
   "cell_type": "code",
   "execution_count": 89,
   "metadata": {},
   "outputs": [],
   "source": [
    "result.to_csv(r'C:\\\\Users\\\\Subrat\\\\Downloads\\\\resultcct2.csv', index=False)"
   ]
  },
  {
   "cell_type": "code",
   "execution_count": null,
   "metadata": {},
   "outputs": [],
   "source": []
  }
 ],
 "metadata": {
  "kernelspec": {
   "display_name": "Python 3",
   "language": "python",
   "name": "python3"
  },
  "language_info": {
   "codemirror_mode": {
    "name": "ipython",
    "version": 3
   },
   "file_extension": ".py",
   "mimetype": "text/x-python",
   "name": "python",
   "nbconvert_exporter": "python",
   "pygments_lexer": "ipython3",
   "version": "3.7.6"
  }
 },
 "nbformat": 4,
 "nbformat_minor": 2
}
